{
 "cells": [
  {
   "cell_type": "markdown",
   "id": "d5b4feae",
   "metadata": {},
   "source": [
    "## 2.6. Probability and Statistics\n",
    "https://d2l.ai/chapter_preliminaries/probability.html\n"
   ]
  },
  {
   "cell_type": "code",
   "execution_count": 1,
   "id": "38802546",
   "metadata": {},
   "outputs": [],
   "source": [
    "# %matplotlib inline\n",
    "import random\n",
    "import torch\n",
    "from IPython import display\n",
    "from torch.distributions.multinomial import Multinomial\n",
    "from d2l import torch as d2l"
   ]
  },
  {
   "cell_type": "markdown",
   "id": "0696cb07",
   "metadata": {},
   "source": [
    "## 2.6.8. Exercises 7"
   ]
  },
  {
   "cell_type": "markdown",
   "id": "f67d0c87",
   "metadata": {},
   "source": [
    "7.1 Tính toán các xác suất theo yêu cầu của bải toán"
   ]
  },
  {
   "cell_type": "code",
   "execution_count": 2,
   "id": "f7b419ee",
   "metadata": {},
   "outputs": [
    {
     "name": "stdout",
     "output_type": "stream",
     "text": [
      "Joint probability table for D1, D2 given H=0:\n",
      "P(D1=0, D2=0 | H=0) = 0.8200\n",
      "P(D1=0, D2=1 | H=0) = 0.0800\n",
      "P(D1=1, D2=0 | H=0) = 0.0800\n",
      "P(D1=1, D2=1 | H=0) = 0.0200\n",
      "\n",
      "P(H=1 | D=1) = 0.0147 (~1.47%)\n",
      "P(H=1 | D1=1, D2=1) = 0.0686 (~6.86%)\n"
     ]
    }
   ],
   "source": [
    "def bayes_single_test(P_H1, false_pos, false_neg):\n",
    "    \"\"\"\n",
    "    Tính xác suất P(H=1 | D=1) sau một test dương tính.\n",
    "    \"\"\"\n",
    "    P_H0 = 1 - P_H1\n",
    "    P_D_pos_given_H1 = 1 - false_neg\n",
    "    P_D_pos_given_H0 = false_pos\n",
    "\n",
    "    numerator = P_D_pos_given_H1 * P_H1\n",
    "    denominator = numerator + P_D_pos_given_H0 * P_H0\n",
    "    posterior = numerator / denominator\n",
    "    return posterior\n",
    "\n",
    "\n",
    "def bayes_double_test(P_H1, false_pos, false_neg, P_D1_D2_1_H0):\n",
    "    \"\"\"\n",
    "    Tính xác suất P(H=1 | D1=1, D2=1) sau hai test dương tính.\n",
    "    \"\"\"\n",
    "    P_H0 = 1 - P_H1\n",
    "    P_D1_1_given_H1 = 1 - false_neg\n",
    "    P_D2_1_given_H1 = 1 - false_neg\n",
    "\n",
    "    # Vì D1 và D2 độc lập có điều kiện H=1\n",
    "    P_D1_D2_1_H1 = P_D1_1_given_H1 * P_D2_1_given_H1\n",
    "\n",
    "    numerator = P_D1_D2_1_H1 * P_H1\n",
    "    denominator = numerator + P_D1_D2_1_H0 * P_H0\n",
    "    posterior = numerator / denominator\n",
    "    return posterior\n",
    "\n",
    "\n",
    "def compute_joint_prob_H0(false_pos, P_D1_eq_D2_1_given_H0):\n",
    "    \"\"\"\n",
    "    Tự động suy ra bảng xác suất joint P(D1, D2 | H=0) từ false positive rate và xác suất đồng thời D1=D2=1\n",
    "    \"\"\"\n",
    "    p11 = P_D1_eq_D2_1_given_H0\n",
    "    p10 = false_pos - p11\n",
    "    p01 = false_pos - p11\n",
    "    p00 = 1 - (p11 + p10 + p01)\n",
    "    return {\n",
    "        (0, 0): p00,\n",
    "        (0, 1): p01,\n",
    "        (1, 0): p10,\n",
    "        (1, 1): p11\n",
    "    }\n",
    "\n",
    "\n",
    "# ======= INPUT TỪ ĐỀ BÀI BÀI TOÁN 7 =======\n",
    "P_H1 = 0.0015  # Xác suất bệnh\n",
    "false_positive = 0.1\n",
    "false_negative = 0.01\n",
    "P_D1_eq_D2_eq_1_given_H0 = 0.02\n",
    "\n",
    "# ======= LỜI GIẢI CHO BÀI TOÁN 7  =======\n",
    "# Câu 1: joint probability table\n",
    "joint_table = compute_joint_prob_H0(false_positive, P_D1_eq_D2_eq_1_given_H0)\n",
    "print(\"Joint probability table for D1, D2 given H=0:\")\n",
    "for (d1, d2), prob in joint_table.items():\n",
    "    print(f\"P(D1={d1}, D2={d2} | H=0) = {prob:.4f}\")\n",
    "\n",
    "# Câu 2: P(H=1 | D=1)\n",
    "posterior_1 = bayes_single_test(P_H1, false_positive, false_negative)\n",
    "print(f\"\\nP(H=1 | D=1) = {posterior_1:.4f} (~{posterior_1 * 100:.2f}%)\")\n",
    "\n",
    "# Câu 3: P(H=1 | D1=1, D2=1)\n",
    "posterior_2 = bayes_double_test(P_H1, false_positive, false_negative, P_D1_eq_D2_eq_1_given_H0)\n",
    "print(f\"P(H=1 | D1=1, D2=1) = {posterior_2:.4f} (~{posterior_2 * 100:.2f}%)\")\n"
   ]
  },
  {
   "cell_type": "markdown",
   "id": "72010953",
   "metadata": {},
   "source": [
    "## 7.2 Mô phỏng bằng biểu đồ Bar Chart để trực quan hóa hai xác suất"
   ]
  },
  {
   "cell_type": "code",
   "execution_count": 3,
   "id": "80edf238",
   "metadata": {},
   "outputs": [
    {
     "data": {
      "image/png": "[encoded data removed]",
      "text/plain": [
       "<Figure size 800x500 with 1 Axes>"
      ]
     },
     "metadata": {},
     "output_type": "display_data"
    }
   ],
   "source": [
    "import matplotlib.pyplot as plt\n",
    "\n",
    "# Dữ liệu để plot\n",
    "labels = ['1 test positive', '2 tests positive']\n",
    "values = [posterior_1, posterior_2]\n",
    "percent_values = [v * 100 for v in values]\n",
    "\n",
    "# Vẽ biểu đồ cột\n",
    "plt.figure(figsize=(8, 5))\n",
    "bars = plt.bar(labels, percent_values, color=['skyblue', 'lightcoral'])\n",
    "plt.ylabel('P(H = 1 | test results) [%]')\n",
    "plt.title('Posterior Probability of Disease Given Test Results')\n",
    "\n",
    "# Ghi số trên đầu cột\n",
    "for bar, value in zip(bars, percent_values):\n",
    "    plt.text(bar.get_x() + bar.get_width() / 2,\n",
    "             value + 0.2,\n",
    "             f'{value:.2f}%',\n",
    "             ha='center', va='bottom', fontsize=11)\n",
    "\n",
    "plt.ylim(0, max(percent_values) + 5)\n",
    "plt.grid(axis='y', linestyle='--', alpha=0.7)\n",
    "plt.tight_layout()\n",
    "plt.show()\n"
   ]
  },
  {
   "cell_type": "markdown",
   "id": "b39e6444",
   "metadata": {},
   "source": [
    "## 7.3 Mô phỏng bài toán bằng thử nghiệm ngẫu nhiên (Monte Carlo)"
   ]
  },
  {
   "cell_type": "code",
   "execution_count": 4,
   "id": "5f278bd9",
   "metadata": {},
   "outputs": [
    {
     "name": "stdout",
     "output_type": "stream",
     "text": [
      "\n",
      "Monte Carlo estimate of P(H=1 | D1=1, D2=1): 0.0686 (~6.86%)\n"
     ]
    }
   ],
   "source": [
    "import numpy as np\n",
    "\n",
    "def monte_carlo_simulation(n_trials, P_H1, false_pos, false_neg, P_D1_D2_1_H0):\n",
    "    \"\"\"\n",
    "    Mô phỏng Monte Carlo để ước lượng P(H=1 | D1=1, D2=1)\n",
    "    \"\"\"\n",
    "    # Tạo mảng ngẫu nhiên xác định người bệnh (H=1) hay khỏe (H=0)\n",
    "    H = np.random.rand(n_trials) < P_H1\n",
    "\n",
    "    # Khởi tạo mảng lưu kết quả test D1 và D2\n",
    "    D1 = np.zeros(n_trials, dtype=int)\n",
    "    D2 = np.zeros(n_trials, dtype=int)\n",
    "\n",
    "    # Với H = 1 (bệnh): D1, D2 độc lập, xác suất đúng dương = 1 - false_negative\n",
    "    idx_H1 = np.where(H)[0]\n",
    "    D1[idx_H1] = np.random.rand(len(idx_H1)) < (1 - false_neg)\n",
    "    D2[idx_H1] = np.random.rand(len(idx_H1)) < (1 - false_neg)\n",
    "\n",
    "    # Với H = 0 (khỏe): tạo D1, D2 có phụ thuộc để giữ đúng P(D1=1, D2=1 | H=0) = 0.02\n",
    "    idx_H0 = np.where(~H)[0]\n",
    "    for i in idx_H0:\n",
    "        r = np.random.rand()\n",
    "        if r < P_D1_D2_1_H0:\n",
    "            D1[i] = 1\n",
    "            D2[i] = 1\n",
    "        elif r < P_D1_D2_1_H0 + (false_pos - P_D1_D2_1_H0):  # D1=1, D2=0\n",
    "            D1[i] = 1\n",
    "            D2[i] = 0\n",
    "        elif r < P_D1_D2_1_H0 + 2 * (false_pos - P_D1_D2_1_H0):  # D1=0, D2=1\n",
    "            D1[i] = 0\n",
    "            D2[i] = 1\n",
    "        else:\n",
    "            D1[i] = 0\n",
    "            D2[i] = 0\n",
    "\n",
    "    # Đếm số trường hợp D1=1 và D2=1\n",
    "    both_positive = (D1 == 1) & (D2 == 1)\n",
    "    count_both_positive = np.sum(both_positive)\n",
    "    count_H1_given_both_positive = np.sum(H[both_positive])\n",
    "\n",
    "    # Tính xác suất hậu nghiệm\n",
    "    posterior_estimate = count_H1_given_both_positive / count_both_positive\n",
    "    return posterior_estimate\n",
    "\n",
    "\n",
    "# ====== THÔNG SỐ ĐẦU VÀO ======\n",
    "P_H1 = 0.0015\n",
    "false_pos = 0.1\n",
    "false_neg = 0.01\n",
    "P_D1_D2_1_H0 = 0.02\n",
    "n_simulations = 10**7  # 10 triệu thử nghiệm\n",
    "\n",
    "# ====== CHẠY MÔ PHỎNG VÀ XUẤT KẾT QUẢ ======\n",
    "posterior_mc = monte_carlo_simulation(n_simulations, P_H1, false_pos, false_neg, P_D1_D2_1_H0)\n",
    "\n",
    "print(f\"\\nMonte Carlo estimate of P(H=1 | D1=1, D2=1): {posterior_mc:.4f} (~{posterior_mc * 100:.2f}%)\")\n"
   ]
  }
 ],
 "metadata": {
  "kernelspec": {
   "display_name": "Python 3",
   "language": "python",
   "name": "python3"
  },
  "language_info": {
   "codemirror_mode": {
    "name": "ipython",
    "version": 3
   },
   "file_extension": ".py",
   "mimetype": "text/x-python",
   "name": "python",
   "nbconvert_exporter": "python",
   "pygments_lexer": "ipython3",
   "version": "3.11.9"
  }
 },
 "nbformat": 4,
 "nbformat_minor": 5
}
