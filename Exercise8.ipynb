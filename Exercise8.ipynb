{
 "cells": [
  {
   "cell_type": "markdown",
   "id": "d5b4feae",
   "metadata": {},
   "source": [
    "## 2.6. Probability and Statistics\n",
    "https://d2l.ai/chapter_preliminaries/probability.html\n"
   ]
  },
  {
   "cell_type": "code",
   "execution_count": 12,
   "id": "38802546",
   "metadata": {},
   "outputs": [],
   "source": [
    "# %matplotlib inline\n",
    "import random\n",
    "import torch\n",
    "from IPython import display\n",
    "from torch.distributions.multinomial import Multinomial\n",
    "from d2l import torch as d2l"
   ]
  },
  {
   "cell_type": "markdown",
   "id": "1a434c1e",
   "metadata": {},
   "source": [
    "## 2.6.8. Exercises 8"
   ]
  },
  {
   "cell_type": "markdown",
   "id": "47bc9789",
   "metadata": {},
   "source": [
    "# 8.0. Lấy dữ liệu cổ phiếu Việt Nam"
   ]
  },
  {
   "cell_type": "code",
   "execution_count": 13,
   "id": "b8f33db3",
   "metadata": {},
   "outputs": [],
   "source": [
    "## Chọn 5 mã từ danh mục\n",
    "#stock = vn3.Vnstock().stock(source='TCBS')\n",
    "#stock.listing.all_symbols()\n",
    "#import vnstock as vn\n",
    "\n",
    "import pandas as pd\n",
    "import numpy as np\n",
    "import matplotlib.pyplot as plt\n",
    "import cvxpy as cp\n",
    "\n",
    "# Đọc dữ liệu từ file CSV\n",
    "df = pd.read_csv('vietnam_stock_prices_2023_2024.csv', index_col=0, parse_dates=True)\n",
    "\n",
    "# Tính lợi suất hàng ngày (daily returns)\n",
    "returns = df.pct_change().dropna()\n",
    "\n",
    "# Tính kỳ vọng lợi suất trung bình và ma trận hiệp phương sai\n",
    "mu = returns.mean().values\n",
    "Sigma = returns.cov().values\n",
    "\n",
    "# Số lượng tài sản\n",
    "n = len(mu)\n",
    "\n",
    "# Khởi tạo biến trọng số danh mục\n",
    "w = cp.Variable(n)\n",
    "\n",
    "# Bài toán Markowitz: tối ưu hóa tỷ lệ Sharpe (không có rủi ro)\n",
    "risk_aversion = 1  # hệ số điều chỉnh giữa lợi nhuận và rủi ro\n",
    "\n",
    "# Hàm mục tiêu: cực tiểu hóa rủi ro - tối đa hóa lợi nhuận\n",
    "objective = cp.Maximize(mu @ w - risk_aversion * cp.quad_form(w, Sigma))\n",
    "\n",
    "# Ràng buộc: tổng trọng số = 1 và mỗi trọng số không âm\n",
    "constraints = [cp.sum(w) == 1, w >= 0]\n",
    "\n",
    "# Giải bài toán tối ưu\n",
    "prob = cp.Problem(objective, constraints)\n",
    "prob.solve()\n",
    "\n",
    "# Kết quả\n",
    "optimal_weights = w.value\n",
    "portfolio_return = mu @ optimal_weights\n",
    "portfolio_risk = np.sqrt(optimal_weights.T @ Sigma @ optimal_weights)\n"
   ]
  },
  {
   "cell_type": "markdown",
   "id": "b105e787",
   "metadata": {},
   "source": [
    "## 8.1. Lợi nhuận kỳ vọng hàng năm của danh mục"
   ]
  },
  {
   "cell_type": "code",
   "execution_count": 14,
   "id": "084a82fb",
   "metadata": {},
   "outputs": [
    {
     "name": "stdout",
     "output_type": "stream",
     "text": [
      "\n",
      "Lợi suất kỳ vọng hàng ngày của danh mục: 0.1783%\n",
      "Lợi suất kỳ vọng hàng năm của danh mục: 44.94%\n"
     ]
    }
   ],
   "source": [
    "# --- Tính lợi nhuận kỳ vọng của danh mục ---\n",
    "# Lợi nhuận kỳ vọng hàng ngày đã có:\n",
    "expected_return_daily = np.dot(mu, optimal_weights)\n",
    "\n",
    "# Giả định có 252 ngày giao dịch/năm\n",
    "expected_return_annual = expected_return_daily * 252\n",
    "\n",
    "print(f\"\\nLợi suất kỳ vọng hàng ngày của danh mục: {expected_return_daily:.4%}\")\n",
    "print(f\"Lợi suất kỳ vọng hàng năm của danh mục: {expected_return_annual:.2%}\")\n",
    "\n"
   ]
  },
  {
   "cell_type": "markdown",
   "id": "80c59baa",
   "metadata": {},
   "source": [
    "## 8.2. Tối đa hóa lợi nhuận danh mục đầu tư"
   ]
  },
  {
   "cell_type": "code",
   "execution_count": 15,
   "id": "ee9605fa",
   "metadata": {},
   "outputs": [
    {
     "name": "stdout",
     "output_type": "stream",
     "text": [
      "\n",
      " Tối đa hóa lợi nhuận danh mục:\n",
      "STOCK001: 0.00%\n",
      "STOCK002: 100.00%\n",
      "STOCK003: 0.00%\n",
      "STOCK004: 0.00%\n",
      "STOCK005: 0.00%\n",
      "STOCK006: 0.00%\n",
      "STOCK007: 0.00%\n",
      "STOCK008: 0.00%\n",
      "STOCK009: 0.00%\n",
      "STOCK010: 0.00%\n",
      "STOCK011: 0.00%\n",
      "STOCK012: 0.00%\n",
      "STOCK013: 0.00%\n",
      "STOCK014: 0.00%\n",
      "STOCK015: 0.00%\n",
      "STOCK016: 0.00%\n",
      "STOCK017: 0.00%\n",
      "STOCK018: 0.00%\n",
      "STOCK019: 0.00%\n",
      "STOCK020: 0.00%\n",
      "STOCK021: 0.00%\n",
      "STOCK022: 0.00%\n",
      "STOCK023: 0.00%\n",
      "STOCK024: 0.00%\n",
      "STOCK025: 0.00%\n",
      "STOCK026: 0.00%\n",
      "STOCK027: 0.00%\n",
      "STOCK028: 0.00%\n",
      "STOCK029: 0.00%\n",
      "STOCK030: 0.00%\n",
      "STOCK031: 0.00%\n",
      "STOCK032: 0.00%\n",
      "STOCK033: 0.00%\n",
      "STOCK034: 0.00%\n",
      "STOCK035: 0.00%\n",
      "STOCK036: 0.00%\n",
      "STOCK037: 0.00%\n",
      "STOCK038: 0.00%\n",
      "STOCK039: 0.00%\n",
      "STOCK040: 0.00%\n",
      "STOCK041: 0.00%\n",
      "STOCK042: 0.00%\n",
      "STOCK043: 0.00%\n",
      "STOCK044: 0.00%\n",
      "STOCK045: 0.00%\n",
      "STOCK046: 0.00%\n",
      "STOCK047: 0.00%\n",
      "STOCK048: 0.00%\n",
      "STOCK049: 0.00%\n",
      "STOCK050: 0.00%\n",
      "\n",
      " Lợi suất kỳ vọng danh mục tối đa lợi nhuận: 0.19%\n",
      " Rủi ro tương ứng (độ lệch chuẩn): 3.32%\n"
     ]
    }
   ],
   "source": [
    "\n",
    "# --- Tối đa hóa lợi nhuận danh mục đầu tư ---\n",
    "# Khởi tạo biến trọng số mới\n",
    "w_max_return = cp.Variable(n)\n",
    "\n",
    "# Hàm mục tiêu: tối đa hóa lợi nhuận kỳ vọng\n",
    "objective_max_return = cp.Maximize(mu @ w_max_return)\n",
    "\n",
    "# Ràng buộc: tổng trọng số = 1, không bán khống\n",
    "constraints_max_return = [cp.sum(w_max_return) == 1, w_max_return >= 0]\n",
    "\n",
    "# Giải bài toán\n",
    "prob_max_return = cp.Problem(objective_max_return, constraints_max_return)\n",
    "prob_max_return.solve()\n",
    "\n",
    "# Kết quả\n",
    "weights_max_return = w_max_return.value\n",
    "portfolio_return_max = mu @ weights_max_return\n",
    "portfolio_risk_max = np.sqrt(weights_max_return.T @ Sigma @ weights_max_return)\n",
    "\n",
    "print(\"\\n Tối đa hóa lợi nhuận danh mục:\")\n",
    "for ticker, weight in zip(df.columns, weights_max_return):\n",
    "    print(f\"{ticker}: {weight:.2%}\")\n",
    "\n",
    "print(f\"\\n Lợi suất kỳ vọng danh mục tối đa lợi nhuận: {portfolio_return_max:.2%}\")\n",
    "print(f\" Rủi ro tương ứng (độ lệch chuẩn): {portfolio_risk_max:.2%}\")\n"
   ]
  },
  {
   "cell_type": "markdown",
   "id": "517adf57",
   "metadata": {},
   "source": [
    "## 8.3. Tính toán phương sai của danh mục đầu tư"
   ]
  },
  {
   "cell_type": "code",
   "execution_count": 16,
   "id": "64e7cbf2",
   "metadata": {},
   "outputs": [
    {
     "name": "stdout",
     "output_type": "stream",
     "text": [
      "\n",
      "Phương sai danh mục Markowitz: 0.000119\n"
     ]
    }
   ],
   "source": [
    "# Tính phương sai danh mục Markowitz\n",
    "portfolio_variance = optimal_weights.T @ Sigma @ optimal_weights\n",
    "print(f\"\\nPhương sai danh mục Markowitz: {portfolio_variance:.6f}\")\n"
   ]
  },
  {
   "cell_type": "markdown",
   "id": "b7f3db88",
   "metadata": {},
   "source": [
    "## 8.4. Xây dựng bài toán tối ưu để tối đa hóa lợi nhuận trong khi giữ phương sai ở một ngưỡng nhất định.\n",
    "(Tối đa hóa lợi nhuận với ràng buộc phương sai)"
   ]
  },
  {
   "cell_type": "code",
   "execution_count": 17,
   "id": "7bd264e0",
   "metadata": {},
   "outputs": [
    {
     "name": "stdout",
     "output_type": "stream",
     "text": [
      "\n",
      "Danh mục tối ưu với ràng buộc phương sai:\n",
      "STOCK001: 0.00%\n",
      "STOCK002: 52.89%\n",
      "STOCK003: 0.00%\n",
      "STOCK004: 0.00%\n",
      "STOCK005: 0.00%\n",
      "STOCK006: 0.00%\n",
      "STOCK007: 0.00%\n",
      "STOCK008: 0.00%\n",
      "STOCK009: 0.00%\n",
      "STOCK010: 0.00%\n",
      "STOCK011: 0.00%\n",
      "STOCK012: 1.09%\n",
      "STOCK013: 0.00%\n",
      "STOCK014: 0.00%\n",
      "STOCK015: 0.00%\n",
      "STOCK016: 0.00%\n",
      "STOCK017: 0.00%\n",
      "STOCK018: 0.00%\n",
      "STOCK019: 0.00%\n",
      "STOCK020: 0.00%\n",
      "STOCK021: 0.00%\n",
      "STOCK022: 0.00%\n",
      "STOCK023: 0.00%\n",
      "STOCK024: 0.00%\n",
      "STOCK025: 0.00%\n",
      "STOCK026: 0.00%\n",
      "STOCK027: 0.00%\n",
      "STOCK028: 0.00%\n",
      "STOCK029: 0.00%\n",
      "STOCK030: 0.00%\n",
      "STOCK031: 0.00%\n",
      "STOCK032: 0.00%\n",
      "STOCK033: 0.00%\n",
      "STOCK034: 44.59%\n",
      "STOCK035: 0.00%\n",
      "STOCK036: 0.00%\n",
      "STOCK037: 0.00%\n",
      "STOCK038: 0.00%\n",
      "STOCK039: 0.00%\n",
      "STOCK040: 0.00%\n",
      "STOCK041: 0.00%\n",
      "STOCK042: 0.00%\n",
      "STOCK043: 0.00%\n",
      "STOCK044: 0.00%\n",
      "STOCK045: 0.00%\n",
      "STOCK046: 0.00%\n",
      "STOCK047: 0.00%\n",
      "STOCK048: 0.00%\n",
      "STOCK049: 0.00%\n",
      "STOCK050: 1.43%\n",
      "\n",
      "Lợi suất kỳ vọng: 0.18%\n",
      "Phương sai danh mục: 0.000400\n",
      "Độ lệch chuẩn: 2.00%\n"
     ]
    }
   ],
   "source": [
    "\n",
    "# Cài đặt ngưỡng phương sai cho phép: 0.0004 tương ứng độ lệch chuẩn ≈ 2%\n",
    "target_variance = 0.0004  # Bạn có thể thay đổi giá trị này\n",
    "\n",
    "# Biến trọng số\n",
    "w_risk_constrained = cp.Variable(n)\n",
    "\n",
    "# Hàm mục tiêu: tối đa hóa lợi nhuận kỳ vọng\n",
    "objective_risk_constrained = cp.Maximize(mu @ w_risk_constrained)\n",
    "\n",
    "# Ràng buộc:\n",
    "constraints_risk_constrained = [\n",
    "    cp.sum(w_risk_constrained) == 1,          # Tổng trọng số bằng 1\n",
    "    w_risk_constrained >= 0,                  # Không bán khống\n",
    "    cp.quad_form(w_risk_constrained, Sigma) <= target_variance  # Phương sai không vượt ngưỡng\n",
    "]\n",
    "\n",
    "# Giải bài toán\n",
    "prob_risk_constrained = cp.Problem(objective_risk_constrained, constraints_risk_constrained)\n",
    "prob_risk_constrained.solve()\n",
    "\n",
    "# Kết quả\n",
    "weights_risk_constrained = w_risk_constrained.value\n",
    "portfolio_return_risk_constrained = mu @ weights_risk_constrained\n",
    "portfolio_variance_risk_constrained = weights_risk_constrained.T @ Sigma @ weights_risk_constrained\n",
    "\n",
    "print(\"\\nDanh mục tối ưu với ràng buộc phương sai:\")\n",
    "for ticker, weight in zip(df.columns, weights_risk_constrained):\n",
    "    print(f\"{ticker}: {weight:.2%}\")\n",
    "\n",
    "print(f\"\\nLợi suất kỳ vọng: {portfolio_return_risk_constrained:.2%}\")\n",
    "print(f\"Phương sai danh mục: {portfolio_variance_risk_constrained:.6f}\")\n",
    "print(f\"Độ lệch chuẩn: {np.sqrt(portfolio_variance_risk_constrained):.2%}\")\n"
   ]
  },
  {
   "cell_type": "markdown",
   "id": "8d1dd744",
   "metadata": {},
   "source": [
    "## 8.5. Vẽ danh mục đầu tư tối ưu"
   ]
  },
  {
   "cell_type": "code",
   "execution_count": 18,
   "id": "b55af866",
   "metadata": {},
   "outputs": [
    {
     "data": {
      "image/png": "[encoded data removed]",
      "text/plain": [
       "<Figure size 800x500 with 1 Axes>"
      ]
     },
     "metadata": {},
     "output_type": "display_data"
    }
   ],
   "source": [
    "# Vẽ biểu đồ phân bổ danh mục\n",
    "plt.figure(figsize=(8, 5))\n",
    "plt.bar(df.columns, optimal_weights)\n",
    "plt.title(\"Phân bổ danh mục tối ưu (Markowitz)\")\n",
    "plt.ylabel(\"Tỷ trọng (%)\")\n",
    "plt.grid(True)\n",
    "plt.show()\n"
   ]
  }
 ],
 "metadata": {
  "kernelspec": {
   "display_name": "Python 3",
   "language": "python",
   "name": "python3"
  },
  "language_info": {
   "codemirror_mode": {
    "name": "ipython",
    "version": 3
   },
   "file_extension": ".py",
   "mimetype": "text/x-python",
   "name": "python",
   "nbconvert_exporter": "python",
   "pygments_lexer": "ipython3",
   "version": "3.11.9"
  }
 },
 "nbformat": 4,
 "nbformat_minor": 5
}
