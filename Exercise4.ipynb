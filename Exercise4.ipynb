{
 "cells": [
  {
   "cell_type": "markdown",
   "id": "d5b4feae",
   "metadata": {},
   "source": [
    "## 2.6. Probability and Statistics\n",
    "https://d2l.ai/chapter_preliminaries/probability.html\n"
   ]
  },
  {
   "cell_type": "markdown",
   "id": "0696cb07",
   "metadata": {},
   "source": [
    "## 2.6.8. Exercises 4"
   ]
  },
  {
   "cell_type": "code",
   "execution_count": 3,
   "id": "0a1ef044",
   "metadata": {},
   "outputs": [
    {
     "name": "stdout",
     "output_type": "stream",
     "text": [
      "m = 1\n",
      "  Xác suất thực nghiệm   = 0.6094\n",
      "  Giới hạn Chebyshev     = 4.0000\n",
      "\n",
      "m = 5\n",
      "  Xác suất thực nghiệm   = 0.2670\n",
      "  Giới hạn Chebyshev     = 0.8000\n",
      "\n",
      "m = 10\n",
      "  Xác suất thực nghiệm   = 0.1189\n",
      "  Giới hạn Chebyshev     = 0.4000\n",
      "\n",
      "m = 50\n",
      "  Xác suất thực nghiệm   = 0.0003\n",
      "  Giới hạn Chebyshev     = 0.0800\n",
      "\n",
      "m = 100\n",
      "  Xác suất thực nghiệm   = 0.0000\n",
      "  Giới hạn Chebyshev     = 0.0400\n",
      "\n",
      "m = 500\n",
      "  Xác suất thực nghiệm   = 0.0000\n",
      "  Giới hạn Chebyshev     = 0.0080\n",
      "\n",
      "m = 50000\n",
      "  Xác suất thực nghiệm   = 0.0000\n",
      "  Giới hạn Chebyshev     = 0.0001\n",
      "\n"
     ]
    }
   ],
   "source": [
    "import numpy as np\n",
    "\n",
    "def simulate_chebyshev(m_values, epsilon, num_trials=10000):\n",
    "    results = {}\n",
    "    for m in m_values:\n",
    "        # Sinh num_trials mẫu trung bình từ m biến ngẫu nhiên phân phối chuẩn (mean=0, var=1)\n",
    "        samples = np.random.normal(loc=0, scale=1, size=(num_trials, m))\n",
    "        z_m = samples.mean(axis=1)\n",
    "\n",
    "        # Xác suất thực nghiệm: tỷ lệ |z_m| >= epsilon\n",
    "        empirical_prob = np.mean(np.abs(z_m) >= epsilon)\n",
    "\n",
    "        # Giới hạn từ bất đẳng thức Chebyshev\n",
    "        chebyshev_bound = 1 / (m * epsilon**2)\n",
    "\n",
    "        results[m] = {\n",
    "            \"Empirical Probability\": empirical_prob,\n",
    "            \"Chebyshev Bound\": chebyshev_bound\n",
    "        }\n",
    "\n",
    "    return results\n",
    "\n",
    "# Thử nghiệm với các giá trị m khác nhau\n",
    "m_values = [1, 5, 10, 50, 100, 500, 50000]\n",
    "epsilon = 0.5\n",
    "\n",
    "results = simulate_chebyshev(m_values, epsilon)\n",
    "\n",
    "for m, res in results.items():\n",
    "    print(f\"m = {m}\")\n",
    "    print(f\"  Xác suất thực nghiệm   = {res['Empirical Probability']:.4f}\")\n",
    "    print(f\"  Giới hạn Chebyshev     = {res['Chebyshev Bound']:.4f}\")\n",
    "    print()\n",
    "\n"
   ]
  }
 ],
 "metadata": {
  "kernelspec": {
   "display_name": "venv",
   "language": "python",
   "name": "python3"
  },
  "language_info": {
   "codemirror_mode": {
    "name": "ipython",
    "version": 3
   },
   "file_extension": ".py",
   "mimetype": "text/x-python",
   "name": "python",
   "nbconvert_exporter": "python",
   "pygments_lexer": "ipython3",
   "version": "3.12.2"
  }
 },
 "nbformat": 4,
 "nbformat_minor": 5
}
