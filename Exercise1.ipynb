# Đề tài nghiên cứu: Xác suất và thống kê.
# Thông tin tác giả:
## Học viên cao học: Nguyễn Xuân Hiền. Mã học viên: 2470749.
## Người hướng dẫn khoa học: TS Nguyễn An Khương.
## Bộ môn: Cơ sở toán. Ngành: Khoa học máy tính.
## Khoa Kỹ thuật và Khoa học máy tính - Trường đại học Bách Khoa TP.Hồ Chí Minh.
## Ghi chú: Mã nguồn này là một bộ phận không thể tách rời của Báo cáo nghiên cứu.
# Nguồn tham khảo:
## Lý thuyết về xác suất thống kê: https://d2l.ai/chapter_preliminaries/probability.html#exercises
# Bài tập 1 (Nguồn: Bài tập 1 Phần 2.6.8):
## Yêu cầu: Giảm sự bất định tuỳ ý trong ước lượng xác suất.
## Các giả định:
## Tung một đồng xu, xác suất thu được mặt Hình (head).
true_prob_heads = 0.55
print("Bài tập 1: [bold yellow]Xác suất tung đồng xu")
print(f"Xác suất thu được mặt Hình: {true_prob_heads}","\n")
## Các thử nghiệm với số lượng phép thử tung đồng xu khác nhau.
sample_sizes = [10, 100, 1000, 10000, 100000]
## n_flips - số lần tung đồng xu.
## Kết quả mặt Hình (head) là 1, mặt chữ là 0 (tail).
## Thêm thư viện cần thiết.
## Thư viện định dạng chuỗi.
from rich import print
## Thư viện xử lý dữ liệu và thống kê.
import numpy as np
## Thư viện thống kê.
from statsmodels.stats.proportion import proportion_confint
from scipy import stats
## Tiến hành thử nghiệm.
for n_flips in sample_sizes:
    ## Thực hiện tung đồng xu ngẫu nhiên.
    n_heads = np.random.binomial(n_flips, true_prob_heads, 1)[0]
    ## Tính xác suất thu được mặt Hình.
    sample_prob_heads = n_heads / n_flips
    ## Tính khoảng tin cậy cho xác suất thu được mặt Hình bằng phương pháp khoảng điểm Wilson.
    conf_interval = proportion_confint(n_heads, n_flips, alpha=0.05, method='wilson')
    ## Tính độ rộng của khoảng độ tin cậy.
    interval_width = conf_interval[1] - conf_interval[0]
    print(f"  Số lần tung đồng xu   : {n_flips}")
    print(f"  Số lần thu mặt Hình   : {n_heads}")
    print(f"  Ước lượng mẫu         : {sample_prob_heads:.4f}")
    print(f"  Khoảng tin cậy        : ({conf_interval[0]:.4f}, {conf_interval[1]:.4f})")
    print(f"  Độ rộng khoảng tin cậy: {interval_width:.4f}","\n")

print("[bold yellow]Nhận xét:")
print("* Khi số lần thử tăng lên, độ rộng của khoảng tin cậy sẽ giảm xuống.")
print("* Sự không chắc chắn của xác suất thực thu được mặt Hình giảm và nhỏ")
print("dần tuỳ ý với dữ liệu vô hạn.")
print("Theo [bold cyan]Luật số lớn - The law of large numbers.")
