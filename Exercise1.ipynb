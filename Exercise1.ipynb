{
 "cells": [
  {
   "cell_type": "markdown",
   "id": "d5b4feae",
   "metadata": {},
   "source": [
    "## 2.6. Probability and Statistics\n",
    "https://d2l.ai/chapter_preliminaries/probability.html\n"
   ]
  },
  {
   "cell_type": "code",
   "execution_count": 1,
   "id": "38802546",
   "metadata": {},
   "outputs": [],
   "source": [
    "# %matplotlib inline\n",
    "import random\n",
    "import torch\n",
    "from IPython import display\n",
    "from torch.distributions.multinomial import Multinomial\n",
    "from d2l import torch as d2l"
   ]
  },
  {
   "cell_type": "markdown",
   "id": "0696cb07",
   "metadata": {},
   "source": [
    "## 2.6.8. Exercises 1"
   ]
  },
  {
   "cell_type": "code",
   "execution_count": null,
   "id": "0a1ef044",
   "metadata": {},
   "outputs": [],
   "source": [
    "############"
   ]
  }
 ],
 "metadata": {
  "kernelspec": {
   "display_name": "Python 3",
   "language": "python",
   "name": "python3"
  },
  "language_info": {
   "codemirror_mode": {
    "name": "ipython",
    "version": 3
   },
   "file_extension": ".py",
   "mimetype": "text/x-python",
   "name": "python",
   "nbconvert_exporter": "python",
   "pygments_lexer": "ipython3",
   "version": "3.11.9"
  }
 },
 "nbformat": 4,
 "nbformat_minor": 5
}
