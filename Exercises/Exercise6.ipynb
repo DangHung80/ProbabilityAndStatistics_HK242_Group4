{
 "cells": [
  {
   "cell_type": "markdown",
   "id": "d5b4feae",
   "metadata": {},
   "source": [
    "## 2.6. Probability and Statistics\n",
    "https://d2l.ai/chapter_preliminaries/probability.html\n"
   ]
  },
  {
   "cell_type": "markdown",
   "id": "0696cb07",
   "metadata": {},
   "source": [
    "## 2.6.8. Exercises 6"
   ]
  },
  {
   "cell_type": "code",
   "execution_count": 1,
   "id": "0a1ef044",
   "metadata": {},
   "outputs": [
    {
     "name": "stdout",
     "output_type": "stream",
     "text": [
      "P(A=a1, B=b1, C=c1) = 0.16000000000000003\n"
     ]
    }
   ],
   "source": [
    "############\n",
    "# Define the probabilities\n",
    "P_A = {\n",
    "    'a1': 0.5,\n",
    "    'a2': 0.5,\n",
    "}\n",
    "\n",
    "P_B_given_A = {\n",
    "    'a1': {'b1': 0.4, 'b2': 0.6},\n",
    "    'a2': {'b1': 0.7, 'b2': 0.3},\n",
    "}\n",
    "\n",
    "P_C_given_B = {\n",
    "    'b1': {'c1': 0.8, 'c2': 0.2},\n",
    "    'b2': {'c1': 0.1, 'c2': 0.9},\n",
    "}\n",
    "\n",
    "# Calculate joint probability for a specific path: A='a1', B='b1', C='c1'\n",
    "a = 'a1'\n",
    "b = 'b1'\n",
    "c = 'c1'\n",
    "\n",
    "joint_prob = P_A[a] * P_B_given_A[a][b] * P_C_given_B[b][c]\n",
    "\n",
    "print(f\"P(A={a}, B={b}, C={c}) = {joint_prob}\")"
   ]
  }
 ],
 "metadata": {
  "kernelspec": {
   "display_name": "venv",
   "language": "python",
   "name": "python3"
  },
  "language_info": {
   "codemirror_mode": {
    "name": "ipython",
    "version": 3
   },
   "file_extension": ".py",
   "mimetype": "text/x-python",
   "name": "python",
   "nbconvert_exporter": "python",
   "pygments_lexer": "ipython3",
   "version": "3.12.2"
  }
 },
 "nbformat": 4,
 "nbformat_minor": 5
}
