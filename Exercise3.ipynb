# Bài tập 3 (Nguồn: Bài tập 3 Phần 2.6.8):
## Yêu cầu: Phân tích phương sai của phép ước lượng xác suất.
## Thêm thư viện cần thiết.
## Thư viện định dạng chuỗi.
from rich import print
## Thư viện xử lý dữ liệu và thống kê.
import numpy as np
## Thư viện trực quan hoá bằng đồ thị.
import matplotlib.pyplot as plt
import math
## Các tham số ban đầu cho bài toán tung đồng xu.
## Xác suất thực xuất hiện mặt Hình (head).
true_prob_heads = 0.6
## Các thử nghiệm với số lượng phép đo khác nhau.
sample_sizes = [10, 50, 100, 500, 1000, 5000]
## Số lần lặp lại thử nghiệm cho phương sai thực nghiệm.
num_simulations = 10000 
## Đặt tham số epsilon cho bất đẳng thức Chebyshev (độ lệch khỏi trung bình).
epsilon = 0.05
## Tính toán thực nghiệm.
print(f"Xác suất thực của mặt Hình: {true_prob_heads}")
print("-" * 40)
## Phương sai mẫu thực nghiệm = p(1-p)/n.
print("Phương sai mẫu thực nghiệm:")
theoretical_variances = {}
for n in sample_sizes:
    theoretical_variance = (true_prob_heads * (1 - true_prob_heads)) / n
    theoretical_variances[n] = theoretical_variance
    print(f"  n = {n}: Variance = {theoretical_variance:.6f}")
print("-" * 40)
## Mô phỏng và tính toán thực nghiệm.
print("Phương sai mẫu thực nghiệm:")
sample_proportions_for_clt = {}
for n in sample_sizes:
    ## Chạy nhiều mô phỏng cho mỗi cỡ mẫu.
    sample_proportions = []
    deviations_greater_than_epsilon = 0
    for _ in range(num_simulations):
        ## Xét giá trị mặt Hình là 1, mặt chữ là 0.
        ## Tạo n số ngẫu nhiên thuộc (0.1).
        outcomes = (np.random.rand(n) < true_prob_heads).astype(int)
        ## Tính số lần hiện mặt Hình.
        n_heads = np.sum(outcomes)
        ## Tính tỷ lệ mẫu.
        sample_prop = n_heads / n
        ## Lưu tỷ lệ mẫu.
        sample_proportions.append(sample_prop)
        ## Kiểm tra độ lệch cho bất đẳng thức Chebyshev.
        if abs(sample_prop - true_prob_heads) >= epsilon:
            deviations_greater_than_epsilon += 1
        ## Tính phương sai từ xác suất mẫu.
    empirical_variance = np.var(sample_proportions, ddof=0)
    print(f"  n = {n}: Phương sai thực nghiệm = {empirical_variance:.6f}")
    ## Lưu các tỷ lệ mẫu đối với mẫu có kích thước lớn nhất để trực quan hoá.
    if n == sample_sizes[-1]:
        sample_proportions_for_clt[n] = sample_proportions
    ## Trình bày bất phương trình Chebyshev.
    ## Tính độ lệch xác suất thực nghiệm.
    empirical_prob_deviation = deviations_greater_than_epsilon / num_simulations
    ## Tính cận trên của bất đẳng thức Chebyshev.
    chebyshev_bound = theoretical_variances[n] / (epsilon**2)
    print(f"Bất đẳng thức Chebyshev (epsilon = {epsilon}):")
    ## Y là tỷ lệ mẫu.
    print(f"P(|Y - p| >= {epsilon}) <= {chebyshev_bound:.4f}")
    print(f"Độ lệch xác suất thực nghiệm: {empirical_prob_deviation:.4f}")
    ## Khẳng định rằng xác suất thực nghiệm nhỏ hơn hoặc bằng giới hạn (trong phạm vi nhiễu mô phỏng epsilon),
    ## mặt khác, sử dụng dung sai nhỏ vì mô phỏng không hoàn hảo.
    assert empirical_prob_deviation <= chebyshev_bound + 0.01, f"cận trên vi phạm với mẫu n={n}"
    print(f"(Xác suất thực nghiệm kỳ vọng nhỏ hơn hoặc bằng cận trên)","\n")
print("-" * 40)
## Mối liên hệ với Định lý giới hạn tập trung.
print("Trực quan hoá phân phối tỷ lệ mẫu cho trường hợp cỡ mẫu lớn nhất:")
## Chọn tỷ lệ mẫu cho cỡ mẫu lớn nhất.
largest_n = sample_sizes[-1]
sample_props_clt = sample_proportions_for_clt[largest_n]
## Vẽ đồ thị cho tỷ lệ mẫu.
plt.figure(figsize=(10, 6))
plt.hist(sample_props_clt, bins=50, density=True, alpha=0.6, color='g', label='Phân phối thực nghiệm')
## Đưa đồ thị phân phối chuẩn theo lý thuyết được dự đoán.
## Trung bình: Mean = true_prob_heads.
## Độ lệch chuẩn: Standard Deviation = sqrt(theoretical_variance for largest_n).
clt_mean = true_prob_heads
clt_std_dev = math.sqrt(theoretical_variances[largest_n])
## Tạo một tập mẫu (ảo) biểu diễn đường cong phân phối chuẩn đồ thị Create a range of x values for the normal distribution curve.
xmin, xmax = plt.xlim()
x = np.linspace(xmin, xmax, 100)
p_normal = (1 / (clt_std_dev * np.sqrt(2 * np.pi))) * np.exp(-((x - clt_mean)**2) / (2 * clt_std_dev**2))
## Biểu diễn đồ thị.
plt.plot(x, p_normal, 'k', linewidth=2, label=f'Phân phối chuẩn theo lý thuyết (n={largest_n})')
plt.title(f'Phân phối tỷ lệ mẫu (n={largest_n}) với dự báo')
plt.xlabel('Tỷ lệ mẫu hiển thị mặt Hình')
plt.ylabel('Tỷ trọng')
plt.legend()
plt.grid(True)
plt.show()
print("\n","[bold yellow]Nhận xét:")
print("Đồ thị tần suất tỷ lệ mẫu cho kích thước mẫu lớn (n = 5000) có hình dạng gần giống đồ thị phân phối chuẩn.")
print("Đỉnh của biểu đồ nằm xung quanh xác suất thực của mặt Hình (0.6).")
print("Độ phân tán của biểu đồ liên quan đến phương sai lý thuyết (và sai số chuẩn) cho quy mô mẫu đó.")
print("Đồ thị này minh họa trực quan Định lý giới hạn tập trung:")
print("Sự phân phối của các giá trị trung bình hay tỷ lệ mẫu tiến tới phân phối chuẩn khi quy mô mẫu tăng,")
print("với giá trị trung bình bằng giá trị trung bình thực và phương sai bằng giá trị phương sai thực chia cho quy mô mẫu.")
