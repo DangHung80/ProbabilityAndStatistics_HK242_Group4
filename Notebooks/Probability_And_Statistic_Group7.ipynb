{
 "cells": [
  {
   "cell_type": "markdown",
   "id": "03350ed1",
   "metadata": {},
   "source": [
    "## Xác suất và Thống kê"
   ]
  },
  {
   "cell_type": "markdown",
   "id": "f2d10a1d",
   "metadata": {},
   "source": [
    "## Mục lục:\n",
    "* [Mở dầu](#section-0)\n",
    "* [I. Khái niệm cơ bản](#section-i)\n",
    "    * [1. Xác suất](#section-i-1)\n",
    "        * [1.1. Ba tiên đề cơ bản (Kolmogorov)](#section-i-1-1)\n",
    "        * [1.2. Định nghĩa biến cố](#section-i-1-2)\n",
    "        * [1.3. Ứng dụng trong Khoa học Máy tính](#section-i-1-3)\n",
    "    * [2. Biến ngẫu nhiên](#section-i-2)\n",
    "    * [3. Đa biến ngẫu nhiên](#section-i-3)\n",
    "        * [3.1. Xác suất có điều kiện và Định lý Bayes](#section-i-3-1)\n",
    "        * [3.2. Độc lập và Độc lập có điều kiện](#section-i-3-2)\n",
    "        * [3.2.1 Độc lập](#section-i-3-2-1)\n",
    "        * [3.2.2 Độc lập có điều kiện](#section-i-3-2-2)\n",
    "* [II. Ví dụ](#section-ii)\n",
    "\n",
    "* [III. Kỳ vọng và phương sai](#section-iii)\n",
    "    * [1. Kỳ Vọng (Expectations)](#section-iii-1)\n",
    "       \n",
    "    * [2. Phương Sai](#section-iii-2)\n",
    "        \n",
    "    * [3. Độ lệch chuẩn](#section-iii-3)\n",
    "        \n",
    "    * [4. Vector ngẫu nhiên và Ma trận Hiệp Phương Sai](#section-iii-4)\n",
    "        * [4.1. Bài toán học tăng cường (Reinforcement Learning)](#section-iii-4-1)\n",
    "        * [4.2. Vai trò của BPTT trong RL](#section-iii-4-2)\n",
    "        * [4.3. Minh họa trực quan](#section-iii-4-3)\n",
    "* [IV. Thảo luận](#section-iv)\n",
    "* [V. Gỉải bài tập](#section-v)\n",
    "    * [1. Bài tập 1](#section-v-1)\n",
    "    * [2. Bài tập 2](#section-v-2)\n",
    "    * [3. Bài tập 3](#section-v-3)\n",
    "    * [4. Bài tập 4](#section-v-4)\n",
    "    * [5. Bài tập 5](#section-v-5)\n",
    "    * [6. Bài tập 6](#section-v-6)\n",
    "    * [7. Bài tập 7](#section-v-7)\n",
    "    * [8. Bài tập 8](#section-v-8)\n",
    "* [VI. Bài tập nâng cao](#section-vi)\n",
    "    * [1. Bài tập nâng cao 1](#section-vi-1)\n",
    "    * [2. Bài tập nâng cao 2](#section-vi-2)   \n",
    "    * [3. Bài tập nâng cao 3](#section-vi-3)\n",
    "\n",
    "* [Tài liệu tham khảo](#section-vii)"
   ]
  },
  {
   "cell_type": "markdown",
   "id": "ae25ac38",
   "metadata": {},
   "source": [
    "## Mở dầu"
   ]
  },
  {
   "cell_type": "markdown",
   "id": "52d95d98",
   "metadata": {},
   "source": [
    "abc"
   ]
  },
  {
   "cell_type": "markdown",
   "id": "f7393402",
   "metadata": {},
   "source": [
    "## I. Khái niệm cơ bản"
   ]
  },
  {
   "cell_type": "markdown",
   "id": "51145526",
   "metadata": {},
   "source": [
    "abc"
   ]
  }
 ],
 "metadata": {
  "kernelspec": {
   "display_name": "Python 3",
   "language": "python",
   "name": "python3"
  },
  "language_info": {
   "name": "python",
   "version": "3.13.2"
  }
 },
 "nbformat": 4,
 "nbformat_minor": 5
}
