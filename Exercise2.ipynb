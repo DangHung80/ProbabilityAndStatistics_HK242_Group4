# Bài tập 2 (Nguồn: Bài tập 2 Phần 2.6.8):
## Yêu cầu: Các mức độ không chắc chắn trong phép đo chiều dài có sai số.
## Các giả định:
## Đo chiều dài của một cái bàn bằng thước đo bằng nhựa có độ phân giải mm.
## Thêm thư viện cần thiết.
## Thư viện định dạng chuỗi.
from rich import print
## Thư viện xử lý dữ liệu và thống kê.
import numpy as np
## Thư viện thống kê.
from statsmodels.stats.proportion import proportion_confint
from scipy import stats
## Định nghĩa chiều dài thực của một cái bàn (cm).
true_length = 150.285
## Định nghĩa các đặc tính của sai số trong đo đạc.
## Độ lệch chuẩn của biến động ngẫu nhiên (cm).
random_error_std_dev = 0.2
## Sai số hệ thống của thiết bị đo có vạch chia 0.1 cm.
systematic_error = 0.1
## Giả định giới hạn độ phân giải cùng sai số thước đo 0.1 cm.
resolution = 0.1
print("Bài tập 2: [bold yellow]Đo chiều dài với sai số","\n")
print(f"Độ dài thực                        : {true_length} cm")
print(f"Độ lệch chuẩn của sai số ngẫu nhiên: {random_error_std_dev} cm")
print(f"Sai số hệ thống                    : {systematic_error} cm")
print(f"Độ phân giải đo lường              : {resolution} cm","\n")
## Các thử nghiệm với số lượng phép đo khác nhau.
num_measurements_list = [1, 10, 100, 1000, 10000, 100000]
## Tiến hành phép thử.
for n_measurements in num_measurements_list:
    random_errors = np.random.normal(0, random_error_std_dev, n_measurements)
    ## Mỗi lần đo = Chiều dài thực + sai số ngẫu nhiên + sai số hệ thống.
    raw_measurements = true_length + random_errors + systematic_error
    ## Làm tròn đến đơn vị độ phân giải gần nhất.
    simulated_measurements = np.round(raw_measurements / resolution) * resolution
    ## Tính giá trị trung bình của phép đo.
    average_measurement = np.mean(simulated_measurements)
    ## Tính độ lệch chuẩn của trung bình, standard error of the mean (SEM).
    ## Với độ lệch chuẩn mẫu là Sample_standard_deviation
    ## SEM = sample_standard_deviation / sqrt(n)
    ## SEM phản ánh độ biến động của trung bình mẫu bởi sai số ngẫu nhiên.
    sample_std_dev = np.std(simulated_measurements, ddof=1)
    sem = sample_std_dev / np.sqrt(n_measurements)
    ## Tính khoảng tin cậy cho trung bình thật của các giá trị đo được.
    ## Chú ý: Khoảng này ước lượng giá trị trung bình có được với số lần đo không giới hạn.
    ## Khoảng tin cậy tập trung quanh giá trị trung bình của lần đo.
    t_critical = stats.t.ppf(1 - 0.05/2, df=n_measurements-1) if n_measurements > 1 else np.inf
    margin_of_error = t_critical * sem if n_measurements > 1 else np.inf
    conf_interval_mean = (average_measurement - margin_of_error, average_measurement + margin_of_error)
    ## Tính độ rộng của khoảng tin cậy.
    interval_width_mean = conf_interval_mean[1] - conf_interval_mean[0] if n_measurements > 1 else np.inf
    print(f"Số lần đo                          : {n_measurements}")
    print(f"Giá trị đo trung bình              : {average_measurement:.4f} cm")
    if n_measurements > 1:
        print(f"Phương sai mẫu                     : {sample_std_dev:.4f} cm")
        print(f"Sai số chuẩn của trung bình (SEM)  : {sem:.4f} cm")
        print(f"Khoảng tin cậy cho trung bình đo   : ({conf_interval_mean[0]:.4f}, {conf_interval_mean[1]:.4f})")
        print(f"Độ rộng khoảng tin cậy             : {interval_width_mean:.4f}","\n")
    else:
        print(f"Khoảng tin cậy cho trung bình đo   : Không tính cho một lần đo.")
        print(f"Độ rộng khoảng tin cậy             : Không tính.","\n")

print("[bold yellow]Nhận xét:")
print("Trước hết, độ rộng khoảng tin cậy cho trung bình phép đo giảm dần khi các lỗi ngẫu nhiên được tính trung bình.")
print("Tuy nhiên, khi số lượng phép đo trở nên rất lớn, độ rộng khoảng cách sẽ ổn định.")
print("Điều này là do lỗi hệ thống và giới hạn độ phân giải của thước đo trở thành những yếu tố chi phối.")
print("Phép đo trung bình hội tụ về phía chiều dài thực cộng với lỗi hệ thống, làm tròn theo độ phân giải.")
print("Không thể giảm sự không chắc chắn xuống dưới mức sai số do lỗi hệ thống và độ phân giải gây ra,")
print("ngay cả khi có dữ liệu vô hạn khi sử dụng phương pháp đo lường cụ thể này.")
