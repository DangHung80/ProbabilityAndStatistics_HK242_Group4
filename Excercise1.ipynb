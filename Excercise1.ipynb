# %matplotlib inline
import random
import torchimport Multinomial
from d2l import torch as d2l
