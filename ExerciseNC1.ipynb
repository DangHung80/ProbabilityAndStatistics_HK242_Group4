{
 "cells": [
  {
   "cell_type": "markdown",
   "id": "d5b4feae",
   "metadata": {},
   "source": [
    "## 2.6. Probability and Statistics\n",
    "https://d2l.ai/chapter_preliminaries/probability.html\n"
   ]
  },
  {
   "cell_type": "code",
   "execution_count": 1,
   "id": "38802546",
   "metadata": {},
   "outputs": [],
   "source": [
    "# %matplotlib inline\n",
    "import random\n",
    "import torch\n",
    "from IPython import display\n",
    "from torch.distributions.multinomial import Multinomial\n",
    "from d2l import torch as d2l"
   ]
  },
  {
   "cell_type": "markdown",
   "id": "cae345ff",
   "metadata": {},
   "source": [
    "## Bài toán nâng cao 1 (NC1)\n",
    "Bài nâng cao dựa trên bài toán xác suất xét nghiệm y tế ở EXCERCISE 7, kết hợp thêm các yếu tố thực tế như chi phí xét nghiệm, tối ưu quyết định, và mở rộng thành bài toán ra quyết định dựa trên Bayesian decision theory. "
   ]
  },
  {
   "cell_type": "markdown",
   "id": "4a65c46a",
   "metadata": {},
   "source": [
    "## NC1.1. Tính xác suất hậu nghiệm"
   ]
  },
  {
   "cell_type": "code",
   "execution_count": 2,
   "id": "23bd7f0c",
   "metadata": {},
   "outputs": [],
   "source": [
    "def bayes_posterior(s, k, P_H1=0.0015, tp=0.99, fp=0.10):\n",
    "    \"\"\"\n",
    "    s: số lần dương tính\n",
    "    k: tổng số test đã làm\n",
    "    \"\"\"\n",
    "    fn = 1 - tp\n",
    "    tn = 1 - fp\n",
    "    P_H0 = 1 - P_H1\n",
    "\n",
    "    # Likelihood\n",
    "    L1 = (tp**s) * (fn**(k - s))\n",
    "    L0 = (fp**s) * (tn**(k - s))\n",
    "\n",
    "    numerator = L1 * P_H1\n",
    "    denominator = numerator + L0 * P_H0\n",
    "    return numerator / denominator\n"
   ]
  },
  {
   "cell_type": "markdown",
   "id": "fe35cc6c",
   "metadata": {},
   "source": [
    "## NC1.2. Tính chi phí kỳ vọng của các hành động và\n"
    "## NC1.3. Xây dựng thuật toán chọn hành động tối ưu (cây quyết định)"
   ]
  },
  {
   "cell_type": "code",
   "execution_count": 3,
   "id": "6a377d8e",
   "metadata": {},
   "outputs": [],
   "source": [
    "from functools import lru_cache\n",
    "\n",
    "@lru_cache(maxsize=None)\n",
    "def expected_cost(s, k, max_tests=3):\n",
    "    if k == max_tests:\n",
    "        # Đã test đủ, chọn giữa A và B\n",
    "        p = bayes_posterior(s, k)\n",
    "        cost_A = (1 - p) * 500 + k * 50\n",
    "        cost_B = p * 10000 + k * 50\n",
    "        return min(cost_A, cost_B)\n",
    "\n",
    "    # Nếu điều trị ngay\n",
    "    p = bayes_posterior(s, k)\n",
    "    cost_A = (1 - p) * 500 + k * 50\n",
    "    cost_B = p * 10000 + k * 50\n",
    "\n",
    "    # Nếu test thêm 1 lần\n",
    "    # Kỳ vọng theo kết quả test tiếp theo (dương hoặc âm)\n",
    "    p_next_pos = p * 0.99 + (1 - p) * 0.10\n",
    "    p_next_neg = 1 - p_next_pos\n",
    "\n",
    "    cost_next_pos = expected_cost(s + 1, k + 1)\n",
    "    cost_next_neg = expected_cost(s, k + 1)\n",
    "\n",
    "    cost_C = k * 50 + 50 + (p_next_pos * cost_next_pos + p_next_neg * cost_next_neg)\n",
    "\n",
    "    return min(cost_A, cost_B, cost_C)\n"
   ]
  },
  {
   "cell_type": "markdown",
   "id": "4f3ce3db",
   "metadata": {},
   "source": [
    "## ## NC1.4. Mô phỏng, trực quan hóa cây quyết định"
   ]
  },
  {
   "cell_type": "code",
   "execution_count": 4,
   "id": "f233b76b",
   "metadata": {},
   "outputs": [
    {
     "data": {
      "image/png": "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",
      "text/plain": [
       "<Figure size 800x500 with 1 Axes>"
      ]
     },
     "metadata": {},
     "output_type": "display_data"
    }
   ],
   "source": [
    "import numpy as np\n",
    "import pandas as pd\n",
    "import matplotlib.pyplot as plt\n",
    "import seaborn as sns\n",
    "from functools import lru_cache\n",
    "\n",
    "# Các thông số\n",
    "P_H1 = 0.0015\n",
    "TPR = 0.99\n",
    "FPR = 0.10\n",
    "FNR = 1 - TPR\n",
    "TNR = 1 - FPR\n",
    "COST_TEST = 50\n",
    "COST_TREAT_HEALTHY = 500\n",
    "COST_SKIP_SICK = 10000\n",
    "\n",
    "# Hàm Bayes\n",
    "def bayes_posterior(s, k, P_H1=P_H1, tp=TPR, fp=FPR):\n",
    "    fn = 1 - tp\n",
    "    tn = 1 - fp\n",
    "    P_H0 = 1 - P_H1\n",
    "    L1 = (tp**s) * (fn**(k - s))\n",
    "    L0 = (fp**s) * (tn**(k - s))\n",
    "    numerator = L1 * P_H1\n",
    "    denominator = numerator + L0 * P_H0\n",
    "    return numerator / denominator if denominator != 0 else 0\n",
    "\n",
    "@lru_cache(maxsize=None)\n",
    "def optimal_strategy(s, k, max_tests=3):\n",
    "    p = bayes_posterior(s, k)\n",
    "    cost_A = (1 - p) * COST_TREAT_HEALTHY + k * COST_TEST\n",
    "    cost_B = p * COST_SKIP_SICK + k * COST_TEST\n",
    "    if k >= max_tests:\n",
    "        return min((cost_A, 'TREAT'), (cost_B, 'SKIP'), key=lambda x: x[0])\n",
    "    p_pos = p * TPR + (1 - p) * FPR\n",
    "    p_neg = 1 - p_pos\n",
    "    cost_pos = optimal_strategy(s + 1, k + 1)[0]\n",
    "    cost_neg = optimal_strategy(s, k + 1)[0]\n",
    "    cost_C = k * COST_TEST + COST_TEST + (p_pos * cost_pos + p_neg * cost_neg)\n",
    "    return min((cost_A, 'TREAT'), (cost_B, 'SKIP'), (cost_C, 'TEST'), key=lambda x: x[0])\n",
    "\n",
    "# Tạo ma trận chiến lược (s, k)\n",
    "max_tests = 3\n",
    "strategy_matrix = np.full((max_tests + 1, max_tests + 1), '', dtype='<U10')\n",
    "\n",
    "for k in range(max_tests + 1):\n",
    "    for s in range(k + 1):  # s ≤ k\n",
    "        strategy_matrix[s, k] = optimal_strategy(s, k)[1]\n",
    "\n",
    "# Ánh xạ ký hiệu sang số\n",
    "strategy_to_num = {'TREAT': 2, 'TEST': 1, 'SKIP': 0}\n",
    "\n",
    "# Chuyển thành DataFrame để vẽ\n",
    "df = pd.DataFrame(strategy_matrix, index=[f\"s={i}\" for i in range(max_tests + 1)],\n",
    "                  columns=[f\"k={i}\" for i in range(max_tests + 1)])\n",
    "\n",
    "df_num = df.applymap(lambda x: strategy_to_num.get(x, np.nan))  # né lỗi KeyError\n",
    "\n",
    "# Vẽ heatmap\n",
    "plt.figure(figsize=(8, 5))\n",
    "sns.heatmap(df_num, annot=df, fmt=\"\", cmap=\"YlGnBu\", cbar=False)\n",
    "plt.title(\"Chiến lược tối ưu (TREAT=2, TEST=1, SKIP=0)\")\n",
    "plt.xlabel(\"Số test đã làm (k)\")\n",
    "plt.ylabel(\"Số test dương (s)\")\n",
    "plt.show()\n"
   ]
  },
  {
   "cell_type": "markdown",
   "id": "eea38b7a",
   "metadata": {},
   "source": [
    "## NC1.5. Mô phỏng bằng Monte Carlo với chiến lược này trên 1 triệu bệnh nhân để tính chi phí trung bình mà bệnh viện phải chi trả"
   ]
  },
  {
   "cell_type": "code",
   "execution_count": 5,
   "id": "42f2ef02",
   "metadata": {},
   "outputs": [
    {
     "name": "stdout",
     "output_type": "stream",
     "text": [
      "Chi phí trung bình mỗi bệnh nhân mà bệnh viện phải chi trả: 15.07$\n"
     ]
    }
   ],
   "source": [
    "import numpy as np\n",
    "\n",
    "# Tham số\n",
    "NUM_PATIENTS = 1_000_000\n",
    "np.random.seed(42)  # để kết quả ổn định\n",
    "\n",
    "# Lấy ma trận chiến lược đã tính ở bước trước: strategy_matrix[s, k]\n",
    "# Đảm bảo bạn đã chạy đoạn mã trước đó để có biến `strategy_matrix`\n",
    "\n",
    "# Hàm mô phỏng chi phí cho một bệnh nhân\n",
    "def simulate_patient(strategy_matrix, max_tests=3):\n",
    "    is_sick = np.random.rand() < P_H1\n",
    "    k = 0  # số lần test đã làm\n",
    "    s = 0  # số test ra dương tính\n",
    "    total_cost = 0\n",
    "\n",
    "    while True:\n",
    "        action = strategy_matrix[s, k]\n",
    "\n",
    "        if action == 'TREAT':\n",
    "            total_cost += COST_TREAT_HEALTHY if not is_sick else 0\n",
    "            total_cost += k * COST_TEST\n",
    "            return total_cost\n",
    "        elif action == 'SKIP':\n",
    "            total_cost += COST_SKIP_SICK if is_sick else 0\n",
    "            total_cost += k * COST_TEST\n",
    "            return total_cost\n",
    "        elif action == 'TEST':\n",
    "            test_result = None\n",
    "            if is_sick:\n",
    "                test_result = np.random.rand() < TPR\n",
    "            else:\n",
    "                test_result = np.random.rand() < FPR\n",
    "            k += 1\n",
    "            if test_result:\n",
    "                s += 1\n",
    "            total_cost += COST_TEST\n",
    "        else:\n",
    "            raise ValueError(f\"Unknown action: {action}\")\n",
    "\n",
    "# Mô phỏng nhiều bệnh nhân\n",
    "total_cost = 0\n",
    "for _ in range(NUM_PATIENTS):\n",
    "    total_cost += simulate_patient(strategy_matrix)\n",
    "\n",
    "average_cost = total_cost / NUM_PATIENTS\n",
    "print(f\"Chi phí trung bình mỗi bệnh nhân mà bệnh viện phải chi trả: {average_cost:.2f}$\")\n"
   ]
  }
 ],
 "metadata": {
  "kernelspec": {
   "display_name": "Python 3",
   "language": "python",
   "name": "python3"
  },
  "language_info": {
   "codemirror_mode": {
    "name": "ipython",
    "version": 3
   },
   "file_extension": ".py",
   "mimetype": "text/x-python",
   "name": "python",
   "nbconvert_exporter": "python",
   "pygments_lexer": "ipython3",
   "version": "3.11.9"
  }
 },
 "nbformat": 4,
 "nbformat_minor": 5
}
