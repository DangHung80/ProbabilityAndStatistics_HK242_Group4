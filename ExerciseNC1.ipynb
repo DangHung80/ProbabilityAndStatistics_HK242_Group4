{
 "cells": [
  {
   "cell_type": "markdown",
   "id": "d5b4feae",
   "metadata": {},
   "source": [
    "## 2.6. Probability and Statistics\n",
    "https://d2l.ai/chapter_preliminaries/probability.html\n"
   ]
  },
  {
   "cell_type": "code",
   "execution_count": 3,
   "id": "38802546",
   "metadata": {},
   "outputs": [],
   "source": [
    "# %matplotlib inline\n",
    "import random\n",
    "import torch\n",
    "from IPython import display\n",
    "from torch.distributions.multinomial import Multinomial\n",
    "from d2l import torch as d2l"
   ]
  },
  
