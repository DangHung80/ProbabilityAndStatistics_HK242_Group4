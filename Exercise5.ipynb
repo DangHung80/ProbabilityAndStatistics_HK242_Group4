{
 "cells": [
  {
   "cell_type": "markdown",
   "id": "d5b4feae",
   "metadata": {},
   "source": [
    "## 2.6. Probability and Statistics\n",
    "https://d2l.ai/chapter_preliminaries/probability.html\n"
   ]
  },
  {
   "cell_type": "markdown",
   "id": "0696cb07",
   "metadata": {},
   "source": [
    "## 2.6.8. Exercises 5"
   ]
  },
  {
   "cell_type": "code",
   "execution_count": 1,
   "id": "0a1ef044",
   "metadata": {},
   "outputs": [
    {
     "name": "stdout",
     "output_type": "stream",
     "text": [
      "P(A ∪ B):\n",
      "  Cận dưới: 0.7\n",
      "  Cận trên: 1\n",
      "P(A ∩ B):\n",
      "  Cận dưới: 0.10000000000000009\n",
      "  Cận trên: 0.4\n"
     ]
    }
   ],
   "source": [
    "def bounds_of_union_and_intersection(p_a, p_b):\n",
    "    # Kiểm tra đầu vào hợp lệ\n",
    "    if not (0 <= p_a <= 1 and 0 <= p_b <= 1):\n",
    "        raise ValueError(\"Xác suất phải nằm trong khoảng từ 0 đến 1\")\n",
    "\n",
    "    # P(A ∪ B)\n",
    "    union_lower = max(p_a, p_b)\n",
    "    union_upper = min(1, p_a + p_b)\n",
    "\n",
    "    # P(A ∩ B)\n",
    "    intersection_lower = max(0, p_a + p_b - 1)\n",
    "    intersection_upper = min(p_a, p_b)\n",
    "\n",
    "    return {\n",
    "        \"P(A ∪ B)\": {\n",
    "            \"lower_bound\": union_lower,\n",
    "            \"upper_bound\": union_upper\n",
    "        },\n",
    "        \"P(A ∩ B)\": {\n",
    "            \"lower_bound\": intersection_lower,\n",
    "            \"upper_bound\": intersection_upper\n",
    "        }\n",
    "    }\n",
    "\n",
    "# Ví dụ\n",
    "p_a = 0.4\n",
    "p_b = 0.7\n",
    "result = bounds_of_union_and_intersection(p_a, p_b)\n",
    "\n",
    "for event, bounds in result.items():\n",
    "    print(f\"{event}:\")\n",
    "    print(f\"  Cận dưới: {bounds['lower_bound']}\")\n",
    "    print(f\"  Cận trên: {bounds['upper_bound']}\")\n",
    "\n"
   ]
  }
 ],
 "metadata": {
  "kernelspec": {
   "display_name": "venv",
   "language": "python",
   "name": "python3"
  },
  "language_info": {
   "codemirror_mode": {
    "name": "ipython",
    "version": 3
   },
   "file_extension": ".py",
   "mimetype": "text/x-python",
   "name": "python",
   "nbconvert_exporter": "python",
   "pygments_lexer": "ipython3",
   "version": "3.12.2"
  }
 },
 "nbformat": 4,
 "nbformat_minor": 5
}
